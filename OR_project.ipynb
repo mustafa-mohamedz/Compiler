{
  "nbformat": 4,
  "nbformat_minor": 0,
  "metadata": {
    "colab": {
      "name": "OR project.ipynb",
      "provenance": [],
      "collapsed_sections": [],
      "toc_visible": true,
      "include_colab_link": true
    },
    "kernelspec": {
      "name": "python3",
      "display_name": "Python 3"
    },
    "accelerator": "GPU"
  },
  "cells": [
    {
      "cell_type": "markdown",
      "metadata": {
        "id": "view-in-github",
        "colab_type": "text"
      },
      "source": [
        "<a href=\"https://colab.research.google.com/github/mustafa-mohamedz/Compiler/blob/master/OR_project.ipynb\" target=\"_parent\"><img src=\"https://colab.research.google.com/assets/colab-badge.svg\" alt=\"Open In Colab\"/></a>"
      ]
    },
    {
      "cell_type": "markdown",
      "metadata": {
        "id": "EsqK11mZCs4M",
        "colab_type": "text"
      },
      "source": [
        "# **MRNET for knee diagnosis project**"
      ]
    },
    {
      "cell_type": "markdown",
      "metadata": {
        "id": "hTn6SpQsUYoG",
        "colab_type": "text"
      },
      "source": [
        "## **Download DataSet into Google Drive**"
      ]
    },
    {
      "cell_type": "code",
      "metadata": {
        "id": "ZUWTpN8BwT4i",
        "colab_type": "code",
        "colab": {}
      },
      "source": [
        "from google.colab import drive\n",
        "drive.mount('/content/drive')"
      ],
      "execution_count": 0,
      "outputs": []
    },
    {
      "cell_type": "code",
      "metadata": {
        "id": "lfQzm91OwzX7",
        "colab_type": "code",
        "colab": {}
      },
      "source": [
        "#download the dataset.\n",
        "!wget http://download.cs.stanford.edu/deep/MRNet-v1.0.zip\n",
        "#unzip the dataset to google drive.\n",
        "!unzip MRNet-v1.0.zip -d /content/drive/My\\ Drive"
      ],
      "execution_count": 0,
      "outputs": []
    },
    {
      "cell_type": "markdown",
      "metadata": {
        "colab_type": "text",
        "id": "PGJCBqEC0WFQ"
      },
      "source": [
        "## **Imports**"
      ]
    },
    {
      "cell_type": "code",
      "metadata": {
        "id": "-XdKEH42Zvlr",
        "colab_type": "code",
        "colab": {}
      },
      "source": [
        "#Imports\n",
        "import glob\n",
        "import numpy as np\n",
        "import tensorflow as tf\n",
        "import pandas as pd\n",
        "import tensorflow.keras as keras\n",
        "from tensorflow.keras.backend import max\n",
        "from tensorflow.keras import layers\n",
        "from tensorflow.keras.layers import GlobalAveragePooling2D, GlobalMaxPooling1D, Dense, Conv1D,Conv2D,AveragePooling2D, Dropout, Flatten\n",
        "from tensorflow.keras.layers import Input, Add, Dense, Activation, ZeroPadding2D, BatchNormalization, Flatten, Conv2D, AveragePooling2D, MaxPooling2D, GlobalMaxPooling2D\n",
        "from tensorflow.keras.initializers import glorot_uniform\n",
        "from tensorflow.keras.models import Model, load_model\n",
        "from tensorflow.keras.models import Sequential\n",
        "import matplotlib.pyplot as plt"
      ],
      "execution_count": 0,
      "outputs": []
    },
    {
      "cell_type": "markdown",
      "metadata": {
        "id": "yTUAeTALDc1n",
        "colab_type": "text"
      },
      "source": [
        "## **Data Preparation**"
      ]
    },
    {
      "cell_type": "markdown",
      "metadata": {
        "id": "ztFOp8mR0iLg",
        "colab_type": "text"
      },
      "source": [
        "### **Load Data**\n",
        "Get data images from drive"
      ]
    },
    {
      "cell_type": "code",
      "metadata": {
        "id": "Zfcanc-NUDaS",
        "colab_type": "code",
        "colab": {}
      },
      "source": [
        "def loadData(folderName, isTraining) :\n",
        "  folderName += '/0*.npy' if isTraining else '/1*.npy'\n",
        "  imagesPathes = glob.glob('/content/drive/My Drive/MRNet-v1.0/train/' + folderName)\n",
        "  imagesPathes.sort();\n",
        "  return imagesPathes"
      ],
      "execution_count": 0,
      "outputs": []
    },
    {
      "cell_type": "code",
      "metadata": {
        "id": "dUqPKlKYLRe7",
        "colab_type": "code",
        "colab": {}
      },
      "source": [
        "def loadTestData(folderName) :\n",
        "  folderName += '/*.npy'\n",
        "  imagesPathes = glob.glob('/content/drive/My Drive/MRNet-v1.0/valid/' + folderName)\n",
        "  imagesPathes.sort();\n",
        "  return imagesPathes"
      ],
      "execution_count": 0,
      "outputs": []
    },
    {
      "cell_type": "markdown",
      "metadata": {
        "id": "VclPaQPw0wfv",
        "colab_type": "text"
      },
      "source": [
        "### **Load Labels**"
      ]
    },
    {
      "cell_type": "code",
      "metadata": {
        "id": "nHexnw-HXhd3",
        "colab_type": "code",
        "colab": {}
      },
      "source": [
        "def loadLabels(filename, trainingLabels) :\n",
        "  filename = '/content/drive/My Drive/MRNet-v1.0/' + filename\n",
        "  raw_data = open(filename)\n",
        "  data = np.loadtxt(raw_data, delimiter=\",\")\n",
        "  data = data[:1000]if trainingLabels else data[-130:] \n",
        "  return data[:,1]"
      ],
      "execution_count": 0,
      "outputs": []
    },
    {
      "cell_type": "code",
      "metadata": {
        "id": "Uwtc7prpMVPr",
        "colab_type": "code",
        "colab": {}
      },
      "source": [
        "def loadTestLabels(filename) :\n",
        "  filename = '/content/drive/My Drive/MRNet-v1.0/' + filename\n",
        "  raw_data = open(filename)\n",
        "  data = np.loadtxt(raw_data, delimiter=\",\")\n",
        "  return data[:,1]"
      ],
      "execution_count": 0,
      "outputs": []
    },
    {
      "cell_type": "markdown",
      "metadata": {
        "id": "iOrrFjjQ08BM",
        "colab_type": "text"
      },
      "source": [
        "### **Data Generator class**\n",
        "*getItem Function*\n",
        "\n",
        "Load 3 scans (one for each view) and the thier label"
      ]
    },
    {
      "cell_type": "code",
      "metadata": {
        "id": "xiIYtnOmMIkt",
        "colab_type": "code",
        "colab": {}
      },
      "source": [
        "class DataGenerator(keras.utils.Sequence):\n",
        "    def __init__(self, axialPathes, coronalPathes, sagittalPathes, labels):\n",
        "      self.axialPathes = axialPathes\n",
        "      self.coronalPathes = coronalPathes\n",
        "      self.sagittalPathes = sagittalPathes\n",
        "      self.labels = labels\n",
        "\n",
        "    def __len__(self):\n",
        "      return len(self.labels)\n",
        "\n",
        "    def add_rgb(self,grey_img):\n",
        "      rgb_img = np.repeat(grey_img[...,np.newaxis], 3, -1)\n",
        "      return rgb_img\n",
        "\n",
        "    def __getitem__(self, index):\n",
        "      axial_img = self.add_rgb(np.load(self.axialPathes[index]))\n",
        "      coronal_img = self.add_rgb(np.load(self.coronalPathes[index]))\n",
        "      sagittal_img = self.add_rgb(np.load(self.sagittalPathes[index]))\n",
        "      y = np.array([self.labels[index]])\n",
        "      return [axial_img, coronal_img, sagittal_img], y\n"
      ],
      "execution_count": 0,
      "outputs": []
    },
    {
      "cell_type": "markdown",
      "metadata": {
        "id": "bxQmTBX-IAen",
        "colab_type": "text"
      },
      "source": [
        "### **Load All Data Pathes and Labels values**"
      ]
    },
    {
      "cell_type": "code",
      "metadata": {
        "id": "CcG2h-OKX5OO",
        "colab_type": "code",
        "colab": {}
      },
      "source": [
        "#training\n",
        "trainingAxialPathes = loadData(folderName = 'axial', isTraining = True)\n",
        "trainingCoronalPathes = loadData(folderName = 'coronal', isTraining = True)\n",
        "trainingSagittalPathes = loadData(folderName = 'sagittal', isTraining = True)\n",
        "\n",
        "abnormal_traininglabels = loadLabels(filename = 'train-abnormal.csv', trainingLabels = True)\n",
        "acl_traininglabels = loadLabels(filename = 'train-acl.csv', trainingLabels = True)\n",
        "meniscus_traininglabels = loadLabels(filename = 'train-meniscus.csv', trainingLabels = True)\n",
        "\n",
        "\n",
        "#validation\n",
        "validationAxialPathes = loadData(folderName = 'axial', isTraining = False)\n",
        "validationCoronalPathes = loadData(folderName = 'coronal', isTraining = False)\n",
        "validationSagittalPathes = loadData(folderName = 'sagittal', isTraining = False)\n",
        "\n",
        "abnormal_validationlabels = loadLabels(filename = 'train-abnormal.csv', trainingLabels = False)\n",
        "acl_validationlabels = loadLabels(filename = 'train-acl.csv', trainingLabels = False)\n",
        "meniscus_validationlabels = loadLabels(filename = 'train-meniscus.csv', trainingLabels = False)\n",
        "\n",
        "\n",
        "#Test\n",
        "testAxialPathes = loadTestData('axial')\n",
        "testCoronalPathes = loadTestData('coronal')\n",
        "testSagittalPathes = loadTestData('sagittal')\n",
        "\n",
        "abnormal_testlabels = loadTestLabels('valid-abnormal.csv')\n",
        "acl_testlabels = loadTestLabels('valid-acl.csv')\n",
        "meniscus_testlabels = loadTestLabels('valid-meniscus.csv')"
      ],
      "execution_count": 0,
      "outputs": []
    },
    {
      "cell_type": "markdown",
      "metadata": {
        "id": "tI-Wzz7qEejT",
        "colab_type": "text"
      },
      "source": [
        "### **Create Data Generators**"
      ]
    },
    {
      "cell_type": "code",
      "metadata": {
        "id": "hRVC5yvOIKL_",
        "colab_type": "code",
        "colab": {}
      },
      "source": [
        "#abnormal\n",
        "abnormal_training_generator = DataGenerator(trainingAxialPathes,trainingCoronalPathes,trainingSagittalPathes,abnormal_traininglabels)\n",
        "abnormal_validation_generator = DataGenerator(validationAxialPathes,validationCoronalPathes,validationSagittalPathes, abnormal_validationlabels)\n",
        "abnormal_test_generator = DataGenerator(testAxialPathes,testCoronalPathes,testSagittalPathes, abnormal_testlabels)\n",
        "\n",
        "#acl\n",
        "acl_training_generator = DataGenerator(trainingAxialPathes,trainingCoronalPathes,trainingSagittalPathes,acl_traininglabels)\n",
        "acl_validation_generator = DataGenerator(validationAxialPathes,validationCoronalPathes,validationSagittalPathes, acl_validationlabels)\n",
        "acl_test_generator = DataGenerator(testAxialPathes,testCoronalPathes,testSagittalPathes, acl_testlabels)\n",
        "\n",
        "#meniscus\n",
        "meniscus_training_generator = DataGenerator(trainingAxialPathes,trainingCoronalPathes,trainingSagittalPathes,meniscus_traininglabels)\n",
        "meniscus_validation_generator = DataGenerator(validationAxialPathes,validationCoronalPathes,validationSagittalPathes, meniscus_validationlabels)\n",
        "meniscus_test_generator = DataGenerator(testAxialPathes,testCoronalPathes,testSagittalPathes, meniscus_testlabels)\n"
      ],
      "execution_count": 0,
      "outputs": []
    },
    {
      "cell_type": "markdown",
      "metadata": {
        "id": "_VRnNtkQHRdd",
        "colab_type": "text"
      },
      "source": [
        "##**Alexnet Model**"
      ]
    },
    {
      "cell_type": "markdown",
      "metadata": {
        "id": "9lQzFLc7UoLv",
        "colab_type": "text"
      },
      "source": [
        "### **Paper Implementation**"
      ]
    },
    {
      "cell_type": "code",
      "metadata": {
        "id": "2iLClvOKHPwb",
        "colab_type": "code",
        "colab": {}
      },
      "source": [
        "#feature extractor\n",
        "def getAlexNetFE():\n",
        "  inputs = keras.Input(shape=(256, 256, 3))\n",
        "  # 1st Convolutional Layer\n",
        "  x = Conv2D(filters=96, input_shape=(256, 256, 3), kernel_size=(11, 11), strides=(4, 4), padding='same')(inputs)\n",
        "  x = Activation('relu')(x)\n",
        "  # Max Pooling\n",
        "  x = MaxPooling2D(pool_size=(3, 3), strides=(2, 2), padding='same')(x)\n",
        "\n",
        "  # 2nd Convolutional Layer\n",
        "  x = Conv2D(filters=256, kernel_size=(5, 5), strides=(1, 1), padding='same')(x)\n",
        "  x = Activation('relu')(x)\n",
        "  # Max Pooling\n",
        "  x = MaxPooling2D(pool_size=(3, 3), strides=(2, 2), padding='same')(x)\n",
        "\n",
        "  # 3rd Convolutional Layer\n",
        "  x = Conv2D(filters=384, kernel_size=(3, 3), strides=(1, 1), padding='same')(x)\n",
        "  x = Activation('relu')(x)\n",
        "\n",
        "  # 4th Convolutional Layer\n",
        "  x = Conv2D(filters=384, kernel_size=(3, 3), strides=(1, 1), padding='same')(x)\n",
        "  x = Activation('relu')(x)\n",
        "\n",
        "  # 5th Convolutional Layer\n",
        "  x = Conv2D(filters=256, kernel_size=(3, 3), strides=(1, 1), padding='same')(x)\n",
        "  x = Activation('relu')(x)\n",
        "  # Max Pooling\n",
        "  x = MaxPooling2D(pool_size=(3, 3), strides=(2, 2), padding='valid')(x)\n",
        "  return keras.Model(inputs, x)"
      ],
      "execution_count": 0,
      "outputs": []
    },
    {
      "cell_type": "code",
      "metadata": {
        "id": "KNijKqU-ITDJ",
        "colab_type": "code",
        "colab": {}
      },
      "source": [
        "def getVeiwANModel():\n",
        "  inputs = keras.Input(shape=(256, 256, 3))\n",
        "  x = getAlexNetFE()(inputs)\n",
        "  x = tf.keras.layers.GlobalAveragePooling2D()(x)\n",
        "  x = max(x, axis = 0, keepdims = True)\n",
        "  x = Dense(128, activation=tf.nn.relu)(x)\n",
        "  x = Dropout(0.1)(x)\n",
        "  x = Dense(1,activation=tf.nn.sigmoid)(x)\n",
        "  return keras.Model(inputs, x)"
      ],
      "execution_count": 0,
      "outputs": []
    },
    {
      "cell_type": "code",
      "metadata": {
        "id": "uPqSTjuEIaGo",
        "colab_type": "code",
        "colab": {}
      },
      "source": [
        "def getCompleteANModel():\n",
        "  axial_model = getVeiwANModel()\n",
        "  coronal_model = getVeiwANModel()\n",
        "  sagittal_model = getVeiwANModel()\n",
        "  axial_input = keras.Input(shape = (256, 256, 3))\n",
        "  coronal_input = keras.Input(shape = (256, 256, 3))\n",
        "  sagittal_input = keras.Input(shape = (256, 256, 3))\n",
        "  x = layers.concatenate([axial_model(axial_input), coronal_model(coronal_input), sagittal_model(sagittal_input)])\n",
        "  outputs = Dense(1,activation=tf.nn.sigmoid)(x)\n",
        "  model = keras.Model([axial_input,coronal_input,sagittal_input], outputs)\n",
        "  return model"
      ],
      "execution_count": 0,
      "outputs": []
    },
    {
      "cell_type": "markdown",
      "metadata": {
        "id": "fx38zdOQKXrk",
        "colab_type": "text"
      },
      "source": [
        "### **Training**"
      ]
    },
    {
      "cell_type": "code",
      "metadata": {
        "id": "pn9RO5DaIf9U",
        "colab_type": "code",
        "colab": {}
      },
      "source": [
        "#alexnet abnormal model\n",
        "abnormal_model = getCompleteANModel()\n",
        "abnormal_model.summary()\n",
        "keras.utils.plot_model(abnormal_model, \"/content/drive/My Drive/AlexNet.png\", show_shapes=True)\n",
        "abnormal_model.compile(optimizer='adam', loss='binary_crossentropy', metrics=['accuracy','AUC'])\n",
        "abnormal_model.fit(abnormal_training_generator,validation_data = abnormal_validation_generator,epochs = 100)"
      ],
      "execution_count": 0,
      "outputs": []
    },
    {
      "cell_type": "code",
      "metadata": {
        "id": "5kKNZdARKo4w",
        "colab_type": "code",
        "colab": {}
      },
      "source": [
        "#alexnet acl model\n",
        "acl_model = getCompleteANModel()\n",
        "acl_model.summary()\n",
        "acl_model.compile(optimizer='adam', loss='binary_crossentropy', metrics=['accuracy','AUC'])\n",
        "acl_model.fit(acl_training_generator,validation_data=acl_validation_generator,epochs =10)\n",
        "acl_model.save(\"acl_AN.h5\")"
      ],
      "execution_count": 0,
      "outputs": []
    },
    {
      "cell_type": "code",
      "metadata": {
        "id": "Dk50gIQIK13m",
        "colab_type": "code",
        "colab": {}
      },
      "source": [
        "#Alexnet meniscus model\n",
        "meniscus_model = getCompleteANModel()\n",
        "meniscus_model.summary()\n",
        "meniscus_model.compile(optimizer='adam', loss='binary_crossentropy', metrics=['accuracy','AUC'])\n",
        "meniscus_model.fit(meniscus_training_generator,validation_data=meniscus_validation_generator,epochs =10)\n",
        "meniscus_model.save(\"meniscus_AN.h5\")"
      ],
      "execution_count": 0,
      "outputs": []
    },
    {
      "cell_type": "markdown",
      "metadata": {
        "id": "8_yz3xaKPqMi",
        "colab_type": "text"
      },
      "source": [
        "## **VGG 16**"
      ]
    },
    {
      "cell_type": "markdown",
      "metadata": {
        "id": "xqrIt8LbVQc_",
        "colab_type": "text"
      },
      "source": [
        "\n",
        "\n",
        "### **VGG16 model layers**"
      ]
    },
    {
      "cell_type": "code",
      "metadata": {
        "id": "n52BDoI2Ppre",
        "colab_type": "code",
        "colab": {}
      },
      "source": [
        "def vggModel (input_shp) :\n",
        "\n",
        "  vggModel = tf.keras.Sequential()\n",
        "  \n",
        "  # first block\n",
        "  vggModel.add(Conv2D(input_shape = input_shp, filters = 64, kernel_size = (3,3), padding = \"same\", activation = \"relu\"))\n",
        "  vggModel.add(Conv2D(filters = 64, kernel_size = (3, 3), padding = \"same\", activation = \"relu\"))\n",
        "  vggModel.add(MaxPool2D(pool_size = (2, 2), strides=(2, 2)))\n",
        "\n",
        "  # second block\n",
        "  vggModel.add(Conv2D(filters = 128, kernel_size = (3, 3), padding = \"same\", activation = \"relu\"))\n",
        "  vggModel.add(Conv2D(filters = 128, kernel_size = (3, 3), padding = \"same\", activation = \"relu\"))\n",
        "  vggModel.add(MaxPool2D(pool_size = (2, 2), strides=(2, 2)))\n",
        "\n",
        "  # third block\n",
        "  vggModel.add(Conv2D(filters = 256, kernel_size = (3, 3), padding = \"same\", activation = \"relu\"))\n",
        "  vggModel.add(Conv2D(filters = 256, kernel_size = (3, 3), padding = \"same\", activation = \"relu\"))\n",
        "  vggModel.add(Conv2D(filters = 256, kernel_size = (3, 3), padding = \"same\", activation = \"relu\"))\n",
        "  vggModel.add(MaxPool2D(pool_size = (2, 2), strides=(2, 2)))\n",
        "\n",
        "  # forth block\n",
        "  vggModel.add(Conv2D(filters = 512, kernel_size = (3, 3), padding = \"same\", activation = \"relu\"))\n",
        "  vggModel.add(Conv2D(filters = 512, kernel_size = (3, 3), padding = \"same\", activation = \"relu\"))\n",
        "  vggModel.add(Conv2D(filters = 512, kernel_size = (3, 3), padding = \"same\", activation = \"relu\"))\n",
        "  vggModel.add(MaxPool2D(pool_size = (2, 2), strides=(2, 2)))\n",
        "\n",
        "  # fifth block\n",
        "  vggModel.add(Conv2D(filters = 512, kernel_size = (3, 3), padding = \"same\", activation = \"relu\"))\n",
        "  vggModel.add(Conv2D(filters = 512, kernel_size = (3, 3), padding = \"same\", activation = \"relu\"))\n",
        "  vggModel.add(Conv2D(filters = 512, kernel_size = (3, 3), padding = \"same\", activation = \"relu\"))\n",
        "  vggModel.add(MaxPool2D(pool_size = (2, 2), strides=(2, 2)))\n",
        "\n",
        "\n",
        "\n",
        "  vggModel.add(Flatten())\n",
        "\n",
        "  return vggModel;"
      ],
      "execution_count": 0,
      "outputs": []
    },
    {
      "cell_type": "markdown",
      "metadata": {
        "id": "_5UEB-zqVi-d",
        "colab_type": "text"
      },
      "source": [
        "### **Merge the 3 series in one VGG model using logistic regression**\n"
      ]
    },
    {
      "cell_type": "code",
      "metadata": {
        "id": "wawAh1S9SJkm",
        "colab_type": "code",
        "colab": {}
      },
      "source": [
        "def getCompleteVGGModel():\n",
        "  axial_VGG_model = getSingleViewTLModel(vggModel(input_shp = (256, 256, 3)))\n",
        "  axial_VGG_model.summary()\n",
        "  coronal_VGG_model = getSingleViewTLModel(vggModel(input_shp = (256, 256, 3)))\n",
        "  sagittal_VGG_model = getSingleViewTLModel(vggModel(input_shp = (256, 256, 3)))\n",
        "\n",
        "\n",
        "  axial_VGG_input = keras.Input(shape = (256, 256, 3))\n",
        "  coronal_VGG_input = keras.Input(shape = (256, 256, 3))\n",
        "  sagittal_VGG_input = keras.Input(shape = (256, 256, 3))\n",
        "\n",
        "  VGG_x = layers.concatenate([axial_VGG_model(axial_VGG_input), coronal_VGG_model(coronal_VGG_input), sagittal_VGG_model(sagittal_VGG_input)])\n",
        "  VGG_outputs = Dense(1, activation = tf.nn.sigmoid)(VGG_x)\n",
        "  model = keras.Model([axial_VGG_input, coronal_VGG_input, sagittal_VGG_input], VGG_outputs)\n",
        "\n",
        "  return model"
      ],
      "execution_count": 0,
      "outputs": []
    },
    {
      "cell_type": "markdown",
      "metadata": {
        "id": "hFSekbBRVsch",
        "colab_type": "text"
      },
      "source": [
        "### **Training Models using VGG 16**"
      ]
    },
    {
      "cell_type": "code",
      "metadata": {
        "colab_type": "code",
        "id": "YJ3dFJnRTfcE",
        "colab": {}
      },
      "source": [
        "# abnormal VGG model\n",
        "abnormal_VGG_model = getCompleteVGGModel()\n",
        "abnormal_VGG_model.compile(optimizer = 'adam', loss = 'mse', metrics = ['accuracy'])\n",
        "history_abnormal = abnormal_VGG_model.fit(abnormal_training_generator, validation_data = abnormal_validation_generator, epochs = 10)\n",
        "abnormal_VGG_model.save(\"/content/drive/My Drive/abnormal_VGG.h5\")"
      ],
      "execution_count": 0,
      "outputs": []
    },
    {
      "cell_type": "code",
      "metadata": {
        "colab_type": "code",
        "id": "BuzVYBFdTfcK",
        "colab": {}
      },
      "source": [
        "# acl VGG model\n",
        "acl_VGG_model = getCompleteVGGModel()\n",
        "acl_VGG_model.summary()\n",
        "acl_VGG_model.compile(optimizer = 'adam', loss = 'mse', metrics = ['accuracy'])\n",
        "history_acl = acl_VGG_model.fit(acl_training_generator, validation_data = acl_validation_generator, epochs = 10)\n",
        "acl_VGG_model.save(\"/content/drive/My Drive/acl_VGG.h5\")"
      ],
      "execution_count": 0,
      "outputs": []
    },
    {
      "cell_type": "code",
      "metadata": {
        "colab_type": "code",
        "id": "zp5TgD7KTfcO",
        "colab": {}
      },
      "source": [
        "# meniscus VGG model\n",
        "meniscus_VGG_model = getCompleteVGGModel()\n",
        "meniscus_VGG_model.summary()\n",
        "meniscus_VGG_model.compile(optimizer = 'adam', loss = 'mse', metrics = ['accuracy'])\n",
        "history_meniscus = meniscus_VGG_model.fit(meniscus_training_generator, validation_data = meniscus_validation_generator, epochs = 10)\n",
        "meniscus_VGG_model.save(\"/content/drive/My Drive/meniscus_VGG.h5\")"
      ],
      "execution_count": 0,
      "outputs": []
    },
    {
      "cell_type": "code",
      "metadata": {
        "colab_type": "code",
        "id": "_R2BuIdvQqAT",
        "colab": {}
      },
      "source": [
        "#abnormal model\n",
        "abnormal_score = abnormal_model.evaluate(abnormal_test_generator)\n",
        "print (abnormal_score)"
      ],
      "execution_count": 0,
      "outputs": []
    },
    {
      "cell_type": "code",
      "metadata": {
        "colab_type": "code",
        "id": "lsVIFE4tQqAY",
        "colab": {}
      },
      "source": [
        "#acl model\n",
        "acl_score = acl_model.evaluate(acl_test_generator)\n",
        "print (acl_score)"
      ],
      "execution_count": 0,
      "outputs": []
    },
    {
      "cell_type": "code",
      "metadata": {
        "id": "NqU9vchYFPQD",
        "colab_type": "code",
        "colab": {}
      },
      "source": [
        "#evaluate\n",
        "meniscus_score = model.evaluate(meniscus_test_generator)\n",
        "print (meniscus_score)"
      ],
      "execution_count": 0,
      "outputs": []
    },
    {
      "cell_type": "markdown",
      "metadata": {
        "id": "1xX0UT_6Dshd",
        "colab_type": "text"
      },
      "source": [
        "## **ResNet Model**"
      ]
    },
    {
      "cell_type": "markdown",
      "metadata": {
        "id": "gEQJLImEAFiQ",
        "colab_type": "text"
      },
      "source": [
        "### **Build the identity block**\n",
        "\n",
        "\n"
      ]
    },
    {
      "cell_type": "code",
      "metadata": {
        "id": "0th_YYhVAgfc",
        "colab_type": "code",
        "colab": {}
      },
      "source": [
        "def identity_block(x, f, filters, stage, block):\n",
        "    \n",
        "    conv_name_base = 'res' + str(stage) + block + '_branch'\n",
        "    bn_name_base = 'bn' + str(stage) + block + '_branch'\n",
        "    F1, F2, F3 = filters    \n",
        "    x_shortcut = x\n",
        "    \n",
        "    # Main Path\n",
        "    # First component of main path\n",
        "    x = Conv2D(filters = F1, kernel_size = (1, 1), strides = (1,1), padding = 'valid', name = conv_name_base + '2a', kernel_initializer = glorot_uniform(seed=0))(x)\n",
        "    x = BatchNormalization(axis = 3, name = bn_name_base + '2a')(x)\n",
        "    x = Activation('relu')(x)\n",
        "    \n",
        "    # Second component of main path\n",
        "    x = Conv2D(filters = F2, kernel_size = (f, f), strides = (1,1), padding = 'same', name = conv_name_base + '2b', kernel_initializer = glorot_uniform(seed=0))(x)\n",
        "    x = BatchNormalization(axis = 3, name = bn_name_base + '2b')(x)\n",
        "    x = Activation('relu')(x)\n",
        "\n",
        "    # Third component of main path\n",
        "    x = Conv2D(filters = F3, kernel_size = (1, 1), strides = (1,1), padding = 'valid', name = conv_name_base + '2c', kernel_initializer = glorot_uniform(seed=0))(x)\n",
        "    x = BatchNormalization(axis = 3, name = bn_name_base + '2c')(x)\n",
        "\n",
        "    # Add shortcut value to main path\n",
        "    x = Add()([x, x_shortcut])\n",
        "    x = Activation('relu')(x)\n",
        "        \n",
        "    return x"
      ],
      "execution_count": 0,
      "outputs": []
    },
    {
      "cell_type": "markdown",
      "metadata": {
        "id": "Ith1DbekAmoV",
        "colab_type": "text"
      },
      "source": [
        "### **Build the convolutional block**"
      ]
    },
    {
      "cell_type": "code",
      "metadata": {
        "id": "ry4CcRYiAv_b",
        "colab_type": "code",
        "colab": {}
      },
      "source": [
        "def convolutional_block(x, f, filters, stage, block, s = 2):\n",
        "\n",
        "    conv_name_base = 'res' + str(stage) + block + '_branch'\n",
        "    bn_name_base = 'bn' + str(stage) + block + '_branch'    \n",
        "    F1, F2, F3 = filters\n",
        "    x_shortcut = x\n",
        "\n",
        "    # Main Path\n",
        "    # First component of main path \n",
        "    x = Conv2D(F1, (1, 1), strides = (s,s), name = conv_name_base + '2a', kernel_initializer = glorot_uniform(seed=0))(x)\n",
        "    x = BatchNormalization(axis = 3, name = bn_name_base + '2a')(x)\n",
        "    x = Activation('relu')(x)\n",
        "    # Second component of main path\n",
        "    x = Conv2D(F2, (f, f), strides = (1,1), padding='same', name = conv_name_base + '2b', kernel_initializer = glorot_uniform(seed=0))(x)\n",
        "    x = BatchNormalization(axis = 3, name = bn_name_base + '2b')(x)\n",
        "    x = Activation('relu')(x)\n",
        "    # Third component of main path\n",
        "    x = Conv2D(F3, (1, 1), strides = (1,1), padding='valid', name = conv_name_base + '2c', kernel_initializer = glorot_uniform(seed=0))(x)\n",
        "    x = BatchNormalization(axis = 3, name = bn_name_base + '2c')(x)\n",
        "\n",
        "    # Shortcut Path\n",
        "    x_shortcut = Conv2D(F3, (1, 1), strides = (s,s), padding='valid', name = conv_name_base + '1',\n",
        "                          kernel_initializer = glorot_uniform(seed=0))(x_shortcut)\n",
        "    x_shortcut = BatchNormalization(axis = 3, name = bn_name_base + '1')(x_shortcut)\n",
        "\n",
        "    # Add shortcut value to main path\n",
        "    x = Add()([x, x_shortcut])\n",
        "    x = Activation('relu')(x)\n",
        "  \n",
        "    return x"
      ],
      "execution_count": 0,
      "outputs": []
    },
    {
      "cell_type": "markdown",
      "metadata": {
        "id": "7XKAC-xMAzg7",
        "colab_type": "text"
      },
      "source": [
        "### **ResNet model (50 layers)**"
      ]
    },
    {
      "cell_type": "code",
      "metadata": {
        "id": "7m--Esa1A7YA",
        "colab_type": "code",
        "colab": {}
      },
      "source": [
        "def ResNet50(input_shape=(256, 256, 3)):\n",
        "\n",
        "    x_input = Input(input_shape)\n",
        "    x = ZeroPadding2D((3, 3))(x_input)\n",
        "    \n",
        "    # Stage 1\n",
        "    x = Conv2D(64, (7, 7), strides = (2, 2), name = 'conv1', kernel_initializer = glorot_uniform(seed=0))(x)\n",
        "    x = BatchNormalization(axis = 3, name = 'bn_conv1')(x)\n",
        "    x = Activation('relu')(x)\n",
        "    x = MaxPooling2D((3, 3), strides=(2, 2))(x)\n",
        "\n",
        "    # Stage 2\n",
        "    x = convolutional_block(x, f = 3, filters = [64, 64, 256], stage = 2, block='a', s = 1)\n",
        "    x = identity_block(x, 3, [64, 64, 256], stage=2, block='b')\n",
        "\n",
        "    x = max(x, axis = 0, keepdims = True)\n",
        "\n",
        "    # Stage 3\n",
        "    x = convolutional_block(x, f = 3, filters = [128, 128, 512], stage = 3, block='a', s = 2)\n",
        "    x = identity_block(x, 3, [128, 128, 512], stage=3, block='b')\n",
        "\n",
        "    # Stage 4\n",
        "    x = convolutional_block(x, f = 3, filters = [256, 256, 1024], stage = 4, block='a', s = 2)\n",
        "    x = identity_block(x, 3, [256, 256, 1024], stage=4, block='b')\n",
        "\n",
        "    # Stage 5\n",
        "    x = convolutional_block(x, f = 3, filters = [512, 512, 2048], stage = 5, block='a', s = 2)\n",
        "    x = identity_block(x, 3, [512, 512, 2048], stage=5, block='b')\n",
        "\n",
        "    x = AveragePooling2D()(x)\n",
        "    \n",
        "    # output layer\n",
        "    x = Flatten()(x)\n",
        "    x = Dense(1, activation='softmax', name='fc' + str(1), kernel_initializer = glorot_uniform(seed=0))(x)\n",
        "    \n",
        "    # Create model\n",
        "    model = Model(inputs = x_input, outputs = x, name='ResNet50')\n",
        "\n",
        "    return model"
      ],
      "execution_count": 0,
      "outputs": []
    },
    {
      "cell_type": "markdown",
      "metadata": {
        "id": "yJeVzssSBIfY",
        "colab_type": "text"
      },
      "source": [
        "### **Build the model's graph**"
      ]
    },
    {
      "cell_type": "code",
      "metadata": {
        "id": "UENzkPxBBMEU",
        "colab_type": "code",
        "colab": {}
      },
      "source": [
        "model = ResNet50((256, 256, 3))"
      ],
      "execution_count": 0,
      "outputs": []
    },
    {
      "cell_type": "markdown",
      "metadata": {
        "id": "Ij1BcfCqcwpH",
        "colab_type": "text"
      },
      "source": [
        "### **Get a ResNet for each series**"
      ]
    },
    {
      "cell_type": "code",
      "metadata": {
        "id": "_GkJ_PIkc8SO",
        "colab_type": "code",
        "colab": {}
      },
      "source": [
        "def getSingleViewResNetModel(base_model):\n",
        "  inputs = Input(shape=(256, 256, 3))\n",
        "  x = base_model(inputs)\n",
        "  x = Dense(512, activation=tf.nn.relu)(x)\n",
        "  x = Dropout(0.2)(x)\n",
        "  x = Dense(128, activation=tf.nn.relu)(x)\n",
        "  x = Dropout(0.1)(x)\n",
        "  outputs = Dense(1,activation=tf.nn.sigmoid)(x)\n",
        "  model = keras.Model(inputs, outputs)\n",
        "  return model"
      ],
      "execution_count": 0,
      "outputs": []
    },
    {
      "cell_type": "markdown",
      "metadata": {
        "id": "1DTU62CEEKo3",
        "colab_type": "text"
      },
      "source": [
        "### **Merge the 3 series in one ResNet model**"
      ]
    },
    {
      "cell_type": "code",
      "metadata": {
        "id": "Z4ffAQGREVcu",
        "colab_type": "code",
        "colab": {}
      },
      "source": [
        "def getCompleteResNetModel():\n",
        "  axial_model = getSingleViewResNetModel(ResNet50((256, 256, 3)))\n",
        "  coronal_model = getSingleViewResNetModel(ResNet50((256, 256, 3)))\n",
        "  sagittal_model = getSingleViewResNetModel(ResNet50((256, 256, 3)))\n",
        "  axial_input = keras.Input(shape = (256, 256, 3))\n",
        "  coronal_input = keras.Input(shape = (256, 256, 3))\n",
        "  sagittal_input = keras.Input(shape = (256, 256, 3))\n",
        "  x = layers.concatenate([axial_model(axial_input), coronal_model(coronal_input), sagittal_model(sagittal_input)])\n",
        "  outputs = Dense(1,activation=tf.nn.sigmoid)(x)\n",
        "  model = keras.Model([axial_input,coronal_input,sagittal_input], outputs)\n",
        "  return model"
      ],
      "execution_count": 0,
      "outputs": []
    },
    {
      "cell_type": "markdown",
      "metadata": {
        "id": "MnK3z2uWBqea",
        "colab_type": "text"
      },
      "source": [
        "### **Train the ResNet model**"
      ]
    },
    {
      "cell_type": "code",
      "metadata": {
        "id": "ugnpVx0KBpT9",
        "colab_type": "code",
        "outputId": "f9fa686d-0c25-44a8-a633-1c189e4efdc8",
        "colab": {
          "base_uri": "https://localhost:8080/",
          "height": 1000
        }
      },
      "source": [
        "# Trainig\n",
        "# Abnormal model\n",
        "abnormal_mode = getCompleteResNetModel()\n",
        "abnormal_mode.summary()\n",
        "abnormal_mode.compile(optimizer='adam', loss='binary_crossentropy', metrics=['accuracy'])\n",
        "model_history = abnormal_mode.fit(abnormal_training_generator,validation_data=abnormal_validation_generator,epochs = 10)\n",
        "abnormal_mode.save(\"/content/drive/My Drive/ResNet(abnormal)1.h5\")\n",
        "\n",
        "# summarize history for accuracy\n",
        "plt.plot(model_history.history['accuracy'])\n",
        "plt.plot(model_history.history['val_accuracy'])\n",
        "plt.title('model accuracy')\n",
        "plt.ylabel('accuracy')\n",
        "plt.xlabel('epoch')\n",
        "plt.legend(['train', 'validation'], loc='upper left')\n",
        "plt.show()\n",
        "# summarize history for loss\n",
        "plt.plot(model_history.history['loss'])\n",
        "plt.plot(model_history.history['val_loss'])\n",
        "plt.title('model loss')\n",
        "plt.ylabel('loss')\n",
        "plt.xlabel('epoch')\n",
        "plt.legend(['train', 'validation'], loc='upper left')\n",
        "plt.show()\n",
        "\n"
      ],
      "execution_count": 0,
      "outputs": [
        {
          "output_type": "stream",
          "text": [
            "Model: \"model_3\"\n",
            "__________________________________________________________________________________________________\n",
            "Layer (type)                    Output Shape         Param #     Connected to                     \n",
            "==================================================================================================\n",
            "input_8 (InputLayer)            [(None, 256, 256, 3) 0                                            \n",
            "__________________________________________________________________________________________________\n",
            "input_9 (InputLayer)            [(None, 256, 256, 3) 0                                            \n",
            "__________________________________________________________________________________________________\n",
            "input_10 (InputLayer)           [(None, 256, 256, 3) 0                                            \n",
            "__________________________________________________________________________________________________\n",
            "model (Model)                   (1, 1)               14092034    input_8[0][0]                    \n",
            "__________________________________________________________________________________________________\n",
            "model_1 (Model)                 (1, 1)               14092034    input_9[0][0]                    \n",
            "__________________________________________________________________________________________________\n",
            "model_2 (Model)                 (1, 1)               14092034    input_10[0][0]                   \n",
            "__________________________________________________________________________________________________\n",
            "concatenate (Concatenate)       (1, 3)               0           model[1][0]                      \n",
            "                                                                 model_1[1][0]                    \n",
            "                                                                 model_2[1][0]                    \n",
            "__________________________________________________________________________________________________\n",
            "dense_9 (Dense)                 (1, 1)               4           concatenate[0][0]                \n",
            "==================================================================================================\n",
            "Total params: 42,276,106\n",
            "Trainable params: 42,183,562\n",
            "Non-trainable params: 92,544\n",
            "__________________________________________________________________________________________________\n",
            "Epoch 1/10\n",
            "1000/1000 [==============================] - 973s 973ms/step - loss: 0.4879 - accuracy: 0.8120 - val_loss: 0.5445 - val_accuracy: 0.7769\n",
            "Epoch 2/10\n",
            "1000/1000 [==============================] - 264s 264ms/step - loss: 0.4862 - accuracy: 0.8120 - val_loss: 0.5382 - val_accuracy: 0.7769\n",
            "Epoch 3/10\n",
            "1000/1000 [==============================] - 264s 264ms/step - loss: 0.4851 - accuracy: 0.8120 - val_loss: 0.5324 - val_accuracy: 0.7769\n",
            "Epoch 4/10\n",
            "1000/1000 [==============================] - 265s 265ms/step - loss: 0.4851 - accuracy: 0.8120 - val_loss: 0.5379 - val_accuracy: 0.7769\n",
            "Epoch 5/10\n",
            "1000/1000 [==============================] - 264s 264ms/step - loss: 0.4852 - accuracy: 0.8120 - val_loss: 0.5355 - val_accuracy: 0.7769\n",
            "Epoch 6/10\n",
            "1000/1000 [==============================] - 265s 265ms/step - loss: 0.4842 - accuracy: 0.8120 - val_loss: 0.5319 - val_accuracy: 0.7769\n",
            "Epoch 7/10\n",
            "1000/1000 [==============================] - 264s 264ms/step - loss: 0.4847 - accuracy: 0.8120 - val_loss: 0.5353 - val_accuracy: 0.7769\n",
            "Epoch 8/10\n",
            "1000/1000 [==============================] - 266s 266ms/step - loss: 0.4847 - accuracy: 0.8120 - val_loss: 0.5378 - val_accuracy: 0.7769\n",
            "Epoch 9/10\n",
            "1000/1000 [==============================] - 265s 265ms/step - loss: 0.4848 - accuracy: 0.8120 - val_loss: 0.5337 - val_accuracy: 0.7769\n",
            "Epoch 10/10\n",
            "1000/1000 [==============================] - 265s 265ms/step - loss: 0.4843 - accuracy: 0.8120 - val_loss: 0.5366 - val_accuracy: 0.7769\n"
          ],
          "name": "stdout"
        },
        {
          "output_type": "display_data",
          "data": {
            "image/png": "[encoded data removed]",
            "text/plain": [
              "<Figure size 432x288 with 1 Axes>"
            ]
          },
          "metadata": {
            "tags": [],
            "needs_background": "light"
          }
        },
        {
          "output_type": "display_data",
          "data": {
            "image/png": "[encoded data removed]",
            "text/plain": [
              "<Figure size 432x288 with 1 Axes>"
            ]
          },
          "metadata": {
            "tags": [],
            "needs_background": "light"
          }
        }
      ]
    },
    {
      "cell_type": "code",
      "metadata": {
        "id": "SSKH70kOfNgJ",
        "colab_type": "code",
        "colab": {}
      },
      "source": [
        "# ACL model\n",
        "acl_model = getCompleteResNetModel()\n",
        "acl_model.summary()\n",
        "acl_model.compile(optimizer='adam', loss='binary_crossentropy', metrics=['accuracy'])\n",
        "model_history = acl_model.fit(acl_training_generator,validation_data=acl_validation_generator,epochs=5)\n",
        "acl_model.save(\"/content/drive/My Drive/ResNet(acl).h5\")\n",
        "\n",
        "# summarize history for accuracy\n",
        "plt.plot(model_history.history['accuracy'])\n",
        "plt.plot(model_history.history['val_accuracy'])\n",
        "plt.title('model accuracy')\n",
        "plt.ylabel('accuracy')\n",
        "plt.xlabel('epoch')\n",
        "plt.legend(['train', 'validation'], loc='upper left')\n",
        "plt.show()\n",
        "# summarize history for loss\n",
        "plt.plot(model_history.history['loss'])\n",
        "plt.plot(model_history.history['val_loss'])\n",
        "plt.title('model loss')\n",
        "plt.ylabel('loss')\n",
        "plt.xlabel('epoch')\n",
        "plt.legend(['train', 'validation'], loc='upper left')\n",
        "plt.show()\n"
      ],
      "execution_count": 0,
      "outputs": []
    },
    {
      "cell_type": "code",
      "metadata": {
        "id": "KdYWtlQz9mrJ",
        "colab_type": "code",
        "outputId": "f268c1a8-c2ec-43b7-d17a-204d21d00655",
        "colab": {
          "base_uri": "https://localhost:8080/",
          "height": 1000
        }
      },
      "source": [
        "# Meniscus model\n",
        "meniscus_model = getCompleteResNetModel()\n",
        "meniscus_model.summary()\n",
        "meniscus_model.compile(optimizer='adam', loss='mse', metrics=['accuracy'])\n",
        "model_history = meniscus_model.fit(meniscus_training_generator,validation_data=meniscus_validation_generator,epochs=5)\n",
        "meniscus_model.save(\"/content/drive/My Drive/ResNet(meniscus).h5\")\n",
        "\n",
        "# summarize history for accuracy\n",
        "plt.plot(model_history.history['accuracy'])\n",
        "plt.plot(model_history.history['val_accuracy'])\n",
        "plt.title('model accuracy')\n",
        "plt.ylabel('accuracy')\n",
        "plt.xlabel('epoch')\n",
        "plt.legend(['train', 'validation'], loc='upper left')\n",
        "plt.show()\n",
        "# summarize history for loss\n",
        "plt.plot(model_history.history['loss'])\n",
        "plt.plot(model_history.history['val_loss'])\n",
        "plt.title('model loss')\n",
        "plt.ylabel('loss')\n",
        "plt.xlabel('epoch')\n",
        "plt.legend(['train', 'validation'], loc='upper left')\n",
        "plt.show()"
      ],
      "execution_count": 0,
      "outputs": [
        {
          "output_type": "stream",
          "text": [
            "Model: \"model_7\"\n",
            "__________________________________________________________________________________________________\n",
            "Layer (type)                    Output Shape         Param #     Connected to                     \n",
            "==================================================================================================\n",
            "input_19 (InputLayer)           [(None, 256, 256, 3) 0                                            \n",
            "__________________________________________________________________________________________________\n",
            "input_20 (InputLayer)           [(None, 256, 256, 3) 0                                            \n",
            "__________________________________________________________________________________________________\n",
            "input_21 (InputLayer)           [(None, 256, 256, 3) 0                                            \n",
            "__________________________________________________________________________________________________\n",
            "model_4 (Model)                 (1, 1)               14092034    input_19[0][0]                   \n",
            "__________________________________________________________________________________________________\n",
            "model_5 (Model)                 (1, 1)               14092034    input_20[0][0]                   \n",
            "__________________________________________________________________________________________________\n",
            "model_6 (Model)                 (1, 1)               14092034    input_21[0][0]                   \n",
            "__________________________________________________________________________________________________\n",
            "concatenate_1 (Concatenate)     (1, 3)               0           model_4[1][0]                    \n",
            "                                                                 model_5[1][0]                    \n",
            "                                                                 model_6[1][0]                    \n",
            "__________________________________________________________________________________________________\n",
            "dense_19 (Dense)                (1, 1)               4           concatenate_1[0][0]              \n",
            "==================================================================================================\n",
            "Total params: 42,276,106\n",
            "Trainable params: 42,183,562\n",
            "Non-trainable params: 92,544\n",
            "__________________________________________________________________________________________________\n",
            "Epoch 1/5\n",
            "1000/1000 [==============================] - 852s 852ms/step - loss: 0.2313 - accuracy: 0.6450 - val_loss: 0.2187 - val_accuracy: 0.6769\n",
            "Epoch 2/5\n",
            "1000/1000 [==============================] - 407s 407ms/step - loss: 0.2303 - accuracy: 0.6450 - val_loss: 0.2188 - val_accuracy: 0.6769\n",
            "Epoch 3/5\n",
            "1000/1000 [==============================] - 406s 406ms/step - loss: 0.2303 - accuracy: 0.6450 - val_loss: 0.2190 - val_accuracy: 0.6769\n",
            "Epoch 4/5\n",
            "1000/1000 [==============================] - 407s 407ms/step - loss: 0.2298 - accuracy: 0.6450 - val_loss: 0.2203 - val_accuracy: 0.6769\n",
            "Epoch 5/5\n",
            "1000/1000 [==============================] - 407s 407ms/step - loss: 0.2295 - accuracy: 0.6450 - val_loss: 0.2195 - val_accuracy: 0.6769\n"
          ],
          "name": "stdout"
        },
        {
          "output_type": "display_data",
          "data": {
            "image/png": "[encoded data removed]",
            "text/plain": [
              "<Figure size 432x288 with 1 Axes>"
            ]
          },
          "metadata": {
            "tags": [],
            "needs_background": "light"
          }
        },
        {
          "output_type": "display_data",
          "data": {
            "image/png": "[encoded data removed]",
            "text/plain": [
              "<Figure size 432x288 with 1 Axes>"
            ]
          },
          "metadata": {
            "tags": [],
            "needs_background": "light"
          }
        }
      ]
    },
    {
      "cell_type": "markdown",
      "metadata": {
        "id": "Gq_0liPbbT2R",
        "colab_type": "text"
      },
      "source": [
        "### **Test ResNet Models**"
      ]
    },
    {
      "cell_type": "code",
      "metadata": {
        "id": "zpAOxw7pbZiz",
        "colab_type": "code",
        "outputId": "4d5fab36-3eab-4e68-d48e-f3049983be10",
        "colab": {
          "base_uri": "https://localhost:8080/",
          "height": 50
        }
      },
      "source": [
        "# Abnormal model\n",
        "abnormal_score = abnormal_mode.evaluate(abnormal_test_generator)\n",
        "print (abnormal_score)"
      ],
      "execution_count": 0,
      "outputs": [
        {
          "output_type": "stream",
          "text": [
            "120/120 [==============================] - 141s 1s/step - loss: 0.5121 - accuracy: 0.7917\n",
            "[0.5121093988418579, 0.7916666865348816]\n"
          ],
          "name": "stdout"
        }
      ]
    },
    {
      "cell_type": "code",
      "metadata": {
        "id": "YL6Bzi5hqY5l",
        "colab_type": "code",
        "outputId": "d183f782-20c6-4b8c-cb39-38e8a7dc2178",
        "colab": {
          "base_uri": "https://localhost:8080/",
          "height": 50
        }
      },
      "source": [
        "# ACL model\n",
        "acl_score = acl_model.evaluate(acl_test_generator)\n",
        "print (acl_score)"
      ],
      "execution_count": 0,
      "outputs": [
        {
          "output_type": "stream",
          "text": [
            "120/120 [==============================] - 216s 2s/step - loss: 0.8613 - accuracy: 0.5500\n",
            "[0.8613349199295044, 0.550000011920929]\n"
          ],
          "name": "stdout"
        }
      ]
    },
    {
      "cell_type": "code",
      "metadata": {
        "id": "x4iP8C_5MJc1",
        "colab_type": "code",
        "outputId": "dd1bb7c5-f908-4a15-8acb-56b1bd1cd322",
        "colab": {
          "base_uri": "https://localhost:8080/",
          "height": 50
        }
      },
      "source": [
        "# Meniscus Model\n",
        "meniscus_score = acl_model.evaluate(meniscus_test_generator)\n",
        "print (meniscus_score)"
      ],
      "execution_count": 0,
      "outputs": [
        {
          "output_type": "stream",
          "text": [
            "120/120 [==============================] - 20s 170ms/step - loss: 0.8373 - accuracy: 0.5667\n",
            "[0.837289035320282, 0.5666666626930237]\n"
          ],
          "name": "stdout"
        }
      ]
    },
    {
      "cell_type": "markdown",
      "metadata": {
        "id": "eFTpqm-1KQHx",
        "colab_type": "text"
      },
      "source": [
        "## **Inception V3 Model**"
      ]
    },
    {
      "cell_type": "markdown",
      "metadata": {
        "id": "PoIPh680KksZ",
        "colab_type": "text"
      },
      "source": [
        "### **Inception V3 Implementation**"
      ]
    },
    {
      "cell_type": "code",
      "metadata": {
        "id": "vd9LFLHDKYkG",
        "colab_type": "code",
        "colab": {}
      },
      "source": [
        "def inception_v3(shape=(299, 299, 3)):\n",
        "    input = Input(shape=shape)\n",
        "    \n",
        "    x = conv2d_bn(input, 32, (3, 3), strides=(2, 2), padding='valid')\n",
        "    x = conv2d_bn(x, 32, (3, 3), padding='valid')\n",
        "    x = conv2d_bn(x, 64, (3, 3))\n",
        "    x = MaxPooling2D((3, 3), strides=(2, 2))(x)\n",
        "\n",
        "    x = conv2d_bn(x, 80, (1, 1), padding='valid')\n",
        "    x = conv2d_bn(x, 192, (3, 3), padding='valid')\n",
        "    x = MaxPooling2D((3, 3), strides=(2, 2))(x)\n",
        "\n",
        "    x = inception_fig_5(x)\n",
        "    x = inception_fig_5(x)\n",
        "    x = inception_fig_5(x)\n",
        "\n",
        "    x = dims_adj_1(x)\n",
        "\n",
        "    x = inception_fig_6(x)\n",
        "    x = inception_fig_6(x)\n",
        "    x = inception_fig_6(x)\n",
        "    x = inception_fig_6(x)\n",
        "    x = inception_fig_6(x)\n",
        "\n",
        "    x = dims_adj_2(x)\n",
        "\n",
        "    x = inception_fig_7(x)\n",
        "    x = inception_fig_7(x)\n",
        "\n",
        "    x = GlobalAveragePooling2D()(x)\n",
        "    x = max(x, axis = 0, keepdims = True)\n",
        "    x = Dense(1, activation='sigmoid')(x)\n",
        "\n",
        "    return Model(input, x)\n",
        "\n",
        "\n",
        "def conv2d_bn(input, filters_num, kernel_size, strides=(1, 1), padding='same'):\n",
        "    x = Conv2D(filters_num, kernel_size, strides=strides, padding=padding)(input)\n",
        "    x = BatchNormalization(axis=3, scale=False)(x)\n",
        "    x = Activation('relu')(x)\n",
        "    return x\n",
        "\n",
        "\n",
        "def inception_fig_5(input):\n",
        "    line1 = conv2d_bn(input, 64, (1, 1))\n",
        "    line1 = conv2d_bn(line1, 96, (3, 3))\n",
        "    line1 = conv2d_bn(line1, 96, (3, 3))\n",
        "\n",
        "    line2 = conv2d_bn(input, 48, (1, 1))\n",
        "    line2 = conv2d_bn(line2, 64, (3, 3))\n",
        "\n",
        "    line3 = AveragePooling2D((3, 3), strides=(1, 1), padding=\"same\")(input)\n",
        "    line3 = conv2d_bn(line3, 64, (1, 1))\n",
        "\n",
        "    line4 = conv2d_bn(input, 64, (1, 1))\n",
        "\n",
        "    return layers.concatenate([line1, line2, line3, line4], axis=3)\n",
        "\n",
        "\n",
        "def inception_fig_6(input):\n",
        "    line1 = conv2d_bn(input, 128, (1, 1))\n",
        "    line1 = conv2d_bn(line1, 128, (1, 7))\n",
        "    line1 = conv2d_bn(line1, 128, (7, 1))\n",
        "    line1 = conv2d_bn(line1, 128, (1, 7))\n",
        "    line1 = conv2d_bn(line1, 192, (7, 1))\n",
        "\n",
        "    line2 = conv2d_bn(input, 128, (1, 1))\n",
        "    line2 = conv2d_bn(line2, 128, (1, 7))\n",
        "    line2 = conv2d_bn(line2, 192, (7, 1))\n",
        "\n",
        "    line3 = AveragePooling2D((3, 3), strides=(1, 1), padding=\"same\")(input)\n",
        "    line3 = conv2d_bn(line3, 192, (1, 1))\n",
        "\n",
        "    line4 = conv2d_bn(input, 192, (1, 1))\n",
        "\n",
        "    return layers.concatenate([line1, line2, line3, line4], axis=3)\n",
        "\n",
        "\n",
        "def inception_fig_7(input):\n",
        "    line1 = conv2d_bn(input, 448, (1, 1))\n",
        "    line1 = conv2d_bn(line1, 384, (3, 3))\n",
        "    line1_1 = conv2d_bn(line1, 384, (1, 3))\n",
        "    line1_2 = conv2d_bn(line1, 384, (3, 1))\n",
        "\n",
        "    line2 = conv2d_bn(input, 384, (1, 1))\n",
        "    line2_1 = conv2d_bn(line2, 384, (1, 3))\n",
        "    line2_2 = conv2d_bn(line2, 384, (3, 1))\n",
        "\n",
        "    line3 = AveragePooling2D((3, 3), strides=(1, 1), padding='same')(input)\n",
        "    line3 = conv2d_bn(line3, 192, (1, 1))\n",
        "\n",
        "    line4 = conv2d_bn(input, 320, (1, 1))\n",
        "\n",
        "    return layers.concatenate([line1_1, line1_2, line2_1, line2_2, line3, line4], axis=3)\n",
        "\n",
        "\n",
        "#adjust dimensions to match those in paper\n",
        "def dims_adj_1(input):\n",
        "    line1 = conv2d_bn(input, 64, (1, 1))\n",
        "    line1 = conv2d_bn(line1, 96, (3, 3))\n",
        "    line1 = conv2d_bn(line1, 96, (3, 3), strides=(2, 2), padding=\"valid\")\n",
        "\n",
        "    line2 = conv2d_bn(input, 384, (3, 3), strides=(2, 2), padding=\"valid\")\n",
        "\n",
        "    line3 = MaxPooling2D((3, 3), strides=(2, 2), padding=\"valid\")(input)\n",
        "\n",
        "    return layers.concatenate([line1, line2, line3], axis=3)\n",
        "\n",
        "\n",
        "def dims_adj_2(input):\n",
        "    line1 = conv2d_bn(input, 192, (1, 1))\n",
        "    line1 = conv2d_bn(line1, 320, (3, 3), strides=(2, 2), padding='valid')\n",
        "\n",
        "    line2 = conv2d_bn(input, 192, (1, 1))\n",
        "    line2 = conv2d_bn(line2, 192, (1, 7))\n",
        "    line2 = conv2d_bn(line2, 192, (7, 1))\n",
        "    line2 = conv2d_bn(line2, 192, (3, 3), strides=(2, 2), padding='valid')\n",
        "\n",
        "    line3 = MaxPooling2D((3, 3), strides=(2, 2), padding=\"valid\")(input)\n",
        "\n",
        "    return layers.concatenate([line1, line2, line3], axis=3)"
      ],
      "execution_count": 0,
      "outputs": []
    },
    {
      "cell_type": "markdown",
      "metadata": {
        "id": "De_xjsNMM4Ui",
        "colab_type": "text"
      },
      "source": [
        "### **Merge the 3 Inception V3 series in one model**"
      ]
    },
    {
      "cell_type": "code",
      "metadata": {
        "id": "izzziHQANGVZ",
        "colab_type": "code",
        "colab": {}
      },
      "source": [
        "def getCompleteInceptionV3Model():\n",
        "  axial_model = inception_v3((256, 256, 3))\n",
        "  coronal_model = inception_v3((256, 256, 3))\n",
        "  sagittal_model = inception_v3((256, 256, 3))\n",
        "  axial_input = Input(shape = (256, 256, 3))\n",
        "  coronal_input = Input(shape = (256, 256, 3))\n",
        "  sagittal_input = Input(shape = (256, 256, 3))\n",
        "  x = layers.concatenate([axial_model(axial_input), coronal_model(coronal_input), sagittal_model(sagittal_input)])\n",
        "  outputs = Dense(1,activation=tf.nn.sigmoid)(x)\n",
        "  model = Model([axial_input,coronal_input,sagittal_input], outputs)\n",
        "  return model"
      ],
      "execution_count": 0,
      "outputs": []
    },
    {
      "cell_type": "markdown",
      "metadata": {
        "colab_type": "text",
        "id": "d1X1A4_hWYSh"
      },
      "source": [
        "### **Training Models**"
      ]
    },
    {
      "cell_type": "code",
      "metadata": {
        "colab_type": "code",
        "id": "zH7QSs4oWYSi",
        "outputId": "b6d106bb-ccb5-4a33-cc25-585215a13c20",
        "colab": {
          "base_uri": "https://localhost:8080/",
          "height": 928
        }
      },
      "source": [
        "#abnormal model\n",
        "abnormal_model = getCompleteInceptionV3Model()\n",
        "abnormal_model.summary()\n",
        "abnormal_model.compile(optimizer='adam', loss='binary_crossentropy', metrics=['accuracy'])\n",
        "model_history = abnormal_model.fit(abnormal_training_generator,validation_data=abnormal_validation_generator,epochs=10)\n",
        "abnormal_model.save(\"/content/drive/My Drive/abnormal_InceptionV3.h5\")"
      ],
      "execution_count": 0,
      "outputs": [
        {
          "output_type": "stream",
          "text": [
            "Model: \"model_24\"\n",
            "__________________________________________________________________________________________________\n",
            "Layer (type)                    Output Shape         Param #     Connected to                     \n",
            "==================================================================================================\n",
            "input_32 (InputLayer)           [(None, 256, 256, 3) 0                                            \n",
            "__________________________________________________________________________________________________\n",
            "input_33 (InputLayer)           [(None, 256, 256, 3) 0                                            \n",
            "__________________________________________________________________________________________________\n",
            "input_34 (InputLayer)           [(None, 256, 256, 3) 0                                            \n",
            "__________________________________________________________________________________________________\n",
            "model_21 (Model)                (1, 1)               21355745    input_32[0][0]                   \n",
            "__________________________________________________________________________________________________\n",
            "model_22 (Model)                (1, 1)               21355745    input_33[0][0]                   \n",
            "__________________________________________________________________________________________________\n",
            "model_23 (Model)                (1, 1)               21355745    input_34[0][0]                   \n",
            "__________________________________________________________________________________________________\n",
            "concatenate_269 (Concatenate)   (1, 3)               0           model_21[1][0]                   \n",
            "                                                                 model_22[1][0]                   \n",
            "                                                                 model_23[1][0]                   \n",
            "__________________________________________________________________________________________________\n",
            "dense_26 (Dense)                (1, 1)               4           concatenate_269[0][0]            \n",
            "==================================================================================================\n",
            "Total params: 64,067,239\n",
            "Trainable params: 63,959,143\n",
            "Non-trainable params: 108,096\n",
            "__________________________________________________________________________________________________\n",
            "Epoch 1/10\n"
          ],
          "name": "stdout"
        },
        {
          "output_type": "error",
          "ename": "ResourceExhaustedError",
          "evalue": "ignored",
          "traceback": [
            "\u001b[0;31m---------------------------------------------------------------------------\u001b[0m",
            "\u001b[0;31mResourceExhaustedError\u001b[0m                    Traceback (most recent call last)",
            "\u001b[0;32m<ipython-input-29-6194813eb603>\u001b[0m in \u001b[0;36m<module>\u001b[0;34m()\u001b[0m\n\u001b[1;32m      3\u001b[0m \u001b[0mabnormal_model\u001b[0m\u001b[0;34m.\u001b[0m\u001b[0msummary\u001b[0m\u001b[0;34m(\u001b[0m\u001b[0;34m)\u001b[0m\u001b[0;34m\u001b[0m\u001b[0;34m\u001b[0m\u001b[0m\n\u001b[1;32m      4\u001b[0m \u001b[0mabnormal_model\u001b[0m\u001b[0;34m.\u001b[0m\u001b[0mcompile\u001b[0m\u001b[0;34m(\u001b[0m\u001b[0moptimizer\u001b[0m\u001b[0;34m=\u001b[0m\u001b[0;34m'adam'\u001b[0m\u001b[0;34m,\u001b[0m \u001b[0mloss\u001b[0m\u001b[0;34m=\u001b[0m\u001b[0;34m'binary_crossentropy'\u001b[0m\u001b[0;34m,\u001b[0m \u001b[0mmetrics\u001b[0m\u001b[0;34m=\u001b[0m\u001b[0;34m[\u001b[0m\u001b[0;34m'accuracy'\u001b[0m\u001b[0;34m]\u001b[0m\u001b[0;34m)\u001b[0m\u001b[0;34m\u001b[0m\u001b[0;34m\u001b[0m\u001b[0m\n\u001b[0;32m----> 5\u001b[0;31m \u001b[0mmodel_history\u001b[0m \u001b[0;34m=\u001b[0m \u001b[0mabnormal_model\u001b[0m\u001b[0;34m.\u001b[0m\u001b[0mfit\u001b[0m\u001b[0;34m(\u001b[0m\u001b[0mabnormal_training_generator\u001b[0m\u001b[0;34m,\u001b[0m\u001b[0mvalidation_data\u001b[0m\u001b[0;34m=\u001b[0m\u001b[0mabnormal_validation_generator\u001b[0m\u001b[0;34m,\u001b[0m\u001b[0mepochs\u001b[0m\u001b[0;34m=\u001b[0m\u001b[0;36m10\u001b[0m\u001b[0;34m)\u001b[0m\u001b[0;34m\u001b[0m\u001b[0;34m\u001b[0m\u001b[0m\n\u001b[0m\u001b[1;32m      6\u001b[0m \u001b[0mabnormal_model\u001b[0m\u001b[0;34m.\u001b[0m\u001b[0msave\u001b[0m\u001b[0;34m(\u001b[0m\u001b[0;34m\"/content/drive/My Drive/abnormal_InceptionV3.h5\"\u001b[0m\u001b[0;34m)\u001b[0m\u001b[0;34m\u001b[0m\u001b[0;34m\u001b[0m\u001b[0m\n",
            "\u001b[0;32m/usr/local/lib/python3.6/dist-packages/tensorflow/python/keras/engine/training.py\u001b[0m in \u001b[0;36m_method_wrapper\u001b[0;34m(self, *args, **kwargs)\u001b[0m\n\u001b[1;32m     64\u001b[0m   \u001b[0;32mdef\u001b[0m \u001b[0m_method_wrapper\u001b[0m\u001b[0;34m(\u001b[0m\u001b[0mself\u001b[0m\u001b[0;34m,\u001b[0m \u001b[0;34m*\u001b[0m\u001b[0margs\u001b[0m\u001b[0;34m,\u001b[0m \u001b[0;34m**\u001b[0m\u001b[0mkwargs\u001b[0m\u001b[0;34m)\u001b[0m\u001b[0;34m:\u001b[0m\u001b[0;34m\u001b[0m\u001b[0;34m\u001b[0m\u001b[0m\n\u001b[1;32m     65\u001b[0m     \u001b[0;32mif\u001b[0m \u001b[0;32mnot\u001b[0m \u001b[0mself\u001b[0m\u001b[0;34m.\u001b[0m\u001b[0m_in_multi_worker_mode\u001b[0m\u001b[0;34m(\u001b[0m\u001b[0;34m)\u001b[0m\u001b[0;34m:\u001b[0m  \u001b[0;31m# pylint: disable=protected-access\u001b[0m\u001b[0;34m\u001b[0m\u001b[0;34m\u001b[0m\u001b[0m\n\u001b[0;32m---> 66\u001b[0;31m       \u001b[0;32mreturn\u001b[0m \u001b[0mmethod\u001b[0m\u001b[0;34m(\u001b[0m\u001b[0mself\u001b[0m\u001b[0;34m,\u001b[0m \u001b[0;34m*\u001b[0m\u001b[0margs\u001b[0m\u001b[0;34m,\u001b[0m \u001b[0;34m**\u001b[0m\u001b[0mkwargs\u001b[0m\u001b[0;34m)\u001b[0m\u001b[0;34m\u001b[0m\u001b[0;34m\u001b[0m\u001b[0m\n\u001b[0m\u001b[1;32m     67\u001b[0m \u001b[0;34m\u001b[0m\u001b[0m\n\u001b[1;32m     68\u001b[0m     \u001b[0;31m# Running inside `run_distribute_coordinator` already.\u001b[0m\u001b[0;34m\u001b[0m\u001b[0;34m\u001b[0m\u001b[0;34m\u001b[0m\u001b[0m\n",
            "\u001b[0;32m/usr/local/lib/python3.6/dist-packages/tensorflow/python/keras/engine/training.py\u001b[0m in \u001b[0;36mfit\u001b[0;34m(self, x, y, batch_size, epochs, verbose, callbacks, validation_split, validation_data, shuffle, class_weight, sample_weight, initial_epoch, steps_per_epoch, validation_steps, validation_batch_size, validation_freq, max_queue_size, workers, use_multiprocessing)\u001b[0m\n\u001b[1;32m    846\u001b[0m                 batch_size=batch_size):\n\u001b[1;32m    847\u001b[0m               \u001b[0mcallbacks\u001b[0m\u001b[0;34m.\u001b[0m\u001b[0mon_train_batch_begin\u001b[0m\u001b[0;34m(\u001b[0m\u001b[0mstep\u001b[0m\u001b[0;34m)\u001b[0m\u001b[0;34m\u001b[0m\u001b[0;34m\u001b[0m\u001b[0m\n\u001b[0;32m--> 848\u001b[0;31m               \u001b[0mtmp_logs\u001b[0m \u001b[0;34m=\u001b[0m \u001b[0mtrain_function\u001b[0m\u001b[0;34m(\u001b[0m\u001b[0miterator\u001b[0m\u001b[0;34m)\u001b[0m\u001b[0;34m\u001b[0m\u001b[0;34m\u001b[0m\u001b[0m\n\u001b[0m\u001b[1;32m    849\u001b[0m               \u001b[0;31m# Catch OutOfRangeError for Datasets of unknown size.\u001b[0m\u001b[0;34m\u001b[0m\u001b[0;34m\u001b[0m\u001b[0;34m\u001b[0m\u001b[0m\n\u001b[1;32m    850\u001b[0m               \u001b[0;31m# This blocks until the batch has finished executing.\u001b[0m\u001b[0;34m\u001b[0m\u001b[0;34m\u001b[0m\u001b[0;34m\u001b[0m\u001b[0m\n",
            "\u001b[0;32m/usr/local/lib/python3.6/dist-packages/tensorflow/python/eager/def_function.py\u001b[0m in \u001b[0;36m__call__\u001b[0;34m(self, *args, **kwds)\u001b[0m\n\u001b[1;32m    578\u001b[0m         \u001b[0mxla_context\u001b[0m\u001b[0;34m.\u001b[0m\u001b[0mExit\u001b[0m\u001b[0;34m(\u001b[0m\u001b[0;34m)\u001b[0m\u001b[0;34m\u001b[0m\u001b[0;34m\u001b[0m\u001b[0m\n\u001b[1;32m    579\u001b[0m     \u001b[0;32melse\u001b[0m\u001b[0;34m:\u001b[0m\u001b[0;34m\u001b[0m\u001b[0;34m\u001b[0m\u001b[0m\n\u001b[0;32m--> 580\u001b[0;31m       \u001b[0mresult\u001b[0m \u001b[0;34m=\u001b[0m \u001b[0mself\u001b[0m\u001b[0;34m.\u001b[0m\u001b[0m_call\u001b[0m\u001b[0;34m(\u001b[0m\u001b[0;34m*\u001b[0m\u001b[0margs\u001b[0m\u001b[0;34m,\u001b[0m \u001b[0;34m**\u001b[0m\u001b[0mkwds\u001b[0m\u001b[0;34m)\u001b[0m\u001b[0;34m\u001b[0m\u001b[0;34m\u001b[0m\u001b[0m\n\u001b[0m\u001b[1;32m    581\u001b[0m \u001b[0;34m\u001b[0m\u001b[0m\n\u001b[1;32m    582\u001b[0m     \u001b[0;32mif\u001b[0m \u001b[0mtracing_count\u001b[0m \u001b[0;34m==\u001b[0m \u001b[0mself\u001b[0m\u001b[0;34m.\u001b[0m\u001b[0m_get_tracing_count\u001b[0m\u001b[0;34m(\u001b[0m\u001b[0;34m)\u001b[0m\u001b[0;34m:\u001b[0m\u001b[0;34m\u001b[0m\u001b[0;34m\u001b[0m\u001b[0m\n",
            "\u001b[0;32m/usr/local/lib/python3.6/dist-packages/tensorflow/python/eager/def_function.py\u001b[0m in \u001b[0;36m_call\u001b[0;34m(self, *args, **kwds)\u001b[0m\n\u001b[1;32m    642\u001b[0m         \u001b[0;31m# Lifting succeeded, so variables are initialized and we can run the\u001b[0m\u001b[0;34m\u001b[0m\u001b[0;34m\u001b[0m\u001b[0;34m\u001b[0m\u001b[0m\n\u001b[1;32m    643\u001b[0m         \u001b[0;31m# stateless function.\u001b[0m\u001b[0;34m\u001b[0m\u001b[0;34m\u001b[0m\u001b[0;34m\u001b[0m\u001b[0m\n\u001b[0;32m--> 644\u001b[0;31m         \u001b[0;32mreturn\u001b[0m \u001b[0mself\u001b[0m\u001b[0;34m.\u001b[0m\u001b[0m_stateless_fn\u001b[0m\u001b[0;34m(\u001b[0m\u001b[0;34m*\u001b[0m\u001b[0margs\u001b[0m\u001b[0;34m,\u001b[0m \u001b[0;34m**\u001b[0m\u001b[0mkwds\u001b[0m\u001b[0;34m)\u001b[0m\u001b[0;34m\u001b[0m\u001b[0;34m\u001b[0m\u001b[0m\n\u001b[0m\u001b[1;32m    645\u001b[0m     \u001b[0;32melse\u001b[0m\u001b[0;34m:\u001b[0m\u001b[0;34m\u001b[0m\u001b[0;34m\u001b[0m\u001b[0m\n\u001b[1;32m    646\u001b[0m       \u001b[0mcanon_args\u001b[0m\u001b[0;34m,\u001b[0m \u001b[0mcanon_kwds\u001b[0m \u001b[0;34m=\u001b[0m\u001b[0;31m \u001b[0m\u001b[0;31m\\\u001b[0m\u001b[0;34m\u001b[0m\u001b[0;34m\u001b[0m\u001b[0m\n",
            "\u001b[0;32m/usr/local/lib/python3.6/dist-packages/tensorflow/python/eager/function.py\u001b[0m in \u001b[0;36m__call__\u001b[0;34m(self, *args, **kwargs)\u001b[0m\n\u001b[1;32m   2418\u001b[0m     \u001b[0;32mwith\u001b[0m \u001b[0mself\u001b[0m\u001b[0;34m.\u001b[0m\u001b[0m_lock\u001b[0m\u001b[0;34m:\u001b[0m\u001b[0;34m\u001b[0m\u001b[0;34m\u001b[0m\u001b[0m\n\u001b[1;32m   2419\u001b[0m       \u001b[0mgraph_function\u001b[0m\u001b[0;34m,\u001b[0m \u001b[0margs\u001b[0m\u001b[0;34m,\u001b[0m \u001b[0mkwargs\u001b[0m \u001b[0;34m=\u001b[0m \u001b[0mself\u001b[0m\u001b[0;34m.\u001b[0m\u001b[0m_maybe_define_function\u001b[0m\u001b[0;34m(\u001b[0m\u001b[0margs\u001b[0m\u001b[0;34m,\u001b[0m \u001b[0mkwargs\u001b[0m\u001b[0;34m)\u001b[0m\u001b[0;34m\u001b[0m\u001b[0;34m\u001b[0m\u001b[0m\n\u001b[0;32m-> 2420\u001b[0;31m     \u001b[0;32mreturn\u001b[0m \u001b[0mgraph_function\u001b[0m\u001b[0;34m.\u001b[0m\u001b[0m_filtered_call\u001b[0m\u001b[0;34m(\u001b[0m\u001b[0margs\u001b[0m\u001b[0;34m,\u001b[0m \u001b[0mkwargs\u001b[0m\u001b[0;34m)\u001b[0m  \u001b[0;31m# pylint: disable=protected-access\u001b[0m\u001b[0;34m\u001b[0m\u001b[0;34m\u001b[0m\u001b[0m\n\u001b[0m\u001b[1;32m   2421\u001b[0m \u001b[0;34m\u001b[0m\u001b[0m\n\u001b[1;32m   2422\u001b[0m   \u001b[0;34m@\u001b[0m\u001b[0mproperty\u001b[0m\u001b[0;34m\u001b[0m\u001b[0;34m\u001b[0m\u001b[0m\n",
            "\u001b[0;32m/usr/local/lib/python3.6/dist-packages/tensorflow/python/eager/function.py\u001b[0m in \u001b[0;36m_filtered_call\u001b[0;34m(self, args, kwargs)\u001b[0m\n\u001b[1;32m   1663\u001b[0m          if isinstance(t, (ops.Tensor,\n\u001b[1;32m   1664\u001b[0m                            resource_variable_ops.BaseResourceVariable))),\n\u001b[0;32m-> 1665\u001b[0;31m         self.captured_inputs)\n\u001b[0m\u001b[1;32m   1666\u001b[0m \u001b[0;34m\u001b[0m\u001b[0m\n\u001b[1;32m   1667\u001b[0m   \u001b[0;32mdef\u001b[0m \u001b[0m_call_flat\u001b[0m\u001b[0;34m(\u001b[0m\u001b[0mself\u001b[0m\u001b[0;34m,\u001b[0m \u001b[0margs\u001b[0m\u001b[0;34m,\u001b[0m \u001b[0mcaptured_inputs\u001b[0m\u001b[0;34m,\u001b[0m \u001b[0mcancellation_manager\u001b[0m\u001b[0;34m=\u001b[0m\u001b[0;32mNone\u001b[0m\u001b[0;34m)\u001b[0m\u001b[0;34m:\u001b[0m\u001b[0;34m\u001b[0m\u001b[0;34m\u001b[0m\u001b[0m\n",
            "\u001b[0;32m/usr/local/lib/python3.6/dist-packages/tensorflow/python/eager/function.py\u001b[0m in \u001b[0;36m_call_flat\u001b[0;34m(self, args, captured_inputs, cancellation_manager)\u001b[0m\n\u001b[1;32m   1744\u001b[0m       \u001b[0;31m# No tape is watching; skip to running the function.\u001b[0m\u001b[0;34m\u001b[0m\u001b[0;34m\u001b[0m\u001b[0;34m\u001b[0m\u001b[0m\n\u001b[1;32m   1745\u001b[0m       return self._build_call_outputs(self._inference_function.call(\n\u001b[0;32m-> 1746\u001b[0;31m           ctx, args, cancellation_manager=cancellation_manager))\n\u001b[0m\u001b[1;32m   1747\u001b[0m     forward_backward = self._select_forward_and_backward_functions(\n\u001b[1;32m   1748\u001b[0m         \u001b[0margs\u001b[0m\u001b[0;34m,\u001b[0m\u001b[0;34m\u001b[0m\u001b[0;34m\u001b[0m\u001b[0m\n",
            "\u001b[0;32m/usr/local/lib/python3.6/dist-packages/tensorflow/python/eager/function.py\u001b[0m in \u001b[0;36mcall\u001b[0;34m(self, ctx, args, cancellation_manager)\u001b[0m\n\u001b[1;32m    596\u001b[0m               \u001b[0minputs\u001b[0m\u001b[0;34m=\u001b[0m\u001b[0margs\u001b[0m\u001b[0;34m,\u001b[0m\u001b[0;34m\u001b[0m\u001b[0;34m\u001b[0m\u001b[0m\n\u001b[1;32m    597\u001b[0m               \u001b[0mattrs\u001b[0m\u001b[0;34m=\u001b[0m\u001b[0mattrs\u001b[0m\u001b[0;34m,\u001b[0m\u001b[0;34m\u001b[0m\u001b[0;34m\u001b[0m\u001b[0m\n\u001b[0;32m--> 598\u001b[0;31m               ctx=ctx)\n\u001b[0m\u001b[1;32m    599\u001b[0m         \u001b[0;32melse\u001b[0m\u001b[0;34m:\u001b[0m\u001b[0;34m\u001b[0m\u001b[0;34m\u001b[0m\u001b[0m\n\u001b[1;32m    600\u001b[0m           outputs = execute.execute_with_cancellation(\n",
            "\u001b[0;32m/usr/local/lib/python3.6/dist-packages/tensorflow/python/eager/execute.py\u001b[0m in \u001b[0;36mquick_execute\u001b[0;34m(op_name, num_outputs, inputs, attrs, ctx, name)\u001b[0m\n\u001b[1;32m     58\u001b[0m     \u001b[0mctx\u001b[0m\u001b[0;34m.\u001b[0m\u001b[0mensure_initialized\u001b[0m\u001b[0;34m(\u001b[0m\u001b[0;34m)\u001b[0m\u001b[0;34m\u001b[0m\u001b[0;34m\u001b[0m\u001b[0m\n\u001b[1;32m     59\u001b[0m     tensors = pywrap_tfe.TFE_Py_Execute(ctx._handle, device_name, op_name,\n\u001b[0;32m---> 60\u001b[0;31m                                         inputs, attrs, num_outputs)\n\u001b[0m\u001b[1;32m     61\u001b[0m   \u001b[0;32mexcept\u001b[0m \u001b[0mcore\u001b[0m\u001b[0;34m.\u001b[0m\u001b[0m_NotOkStatusException\u001b[0m \u001b[0;32mas\u001b[0m \u001b[0me\u001b[0m\u001b[0;34m:\u001b[0m\u001b[0;34m\u001b[0m\u001b[0;34m\u001b[0m\u001b[0m\n\u001b[1;32m     62\u001b[0m     \u001b[0;32mif\u001b[0m \u001b[0mname\u001b[0m \u001b[0;32mis\u001b[0m \u001b[0;32mnot\u001b[0m \u001b[0;32mNone\u001b[0m\u001b[0;34m:\u001b[0m\u001b[0;34m\u001b[0m\u001b[0;34m\u001b[0m\u001b[0m\n",
            "\u001b[0;31mResourceExhaustedError\u001b[0m:  OOM when allocating tensor with shape[128,128,7,1] and type float on /job:localhost/replica:0/task:0/device:GPU:0 by allocator GPU_0_bfc\n\t [[node model_24/model_22/conv2d_2152/Conv2D (defined at <ipython-input-29-6194813eb603>:5) ]]\nHint: If you want to see a list of allocated tensors when OOM happens, add report_tensor_allocations_upon_oom to RunOptions for current allocation info.\n [Op:__inference_train_function_429771]\n\nFunction call stack:\ntrain_function\n"
          ]
        }
      ]
    },
    {
      "cell_type": "code",
      "metadata": {
        "colab_type": "code",
        "id": "MBHekuXEWYSk",
        "colab": {}
      },
      "source": [
        "#acl model\n",
        "acl_model = getCompleteInceptionV3Model()\n",
        "acl_model.summary()\n",
        "acl_model.compile(optimizer='adam', loss='binary_crossentropy', metrics=['accuracy'])\n",
        "model_history = acl_model.fit(acl_training_generator,validation_data=acl_validation_generator,epochs=10)\n",
        "acl_model.save(\"/content/drive/My Drive/acl_InceptionV3.h5\")"
      ],
      "execution_count": 0,
      "outputs": []
    },
    {
      "cell_type": "code",
      "metadata": {
        "colab_type": "code",
        "id": "pbCfrFtfWYSm",
        "colab": {}
      },
      "source": [
        "#meniscus model\n",
        "meniscus_model = getCompleteInceptionV3Model()\n",
        "meniscus_model.summary()\n",
        "meniscus_model.compile(optimizer='adam', loss='binary_crossentropy', metrics=['accuracy'])\n",
        "model_history = meniscus_model.fit(meniscus_training_generator,validation_data=meniscus_validation_generator,epochs =10)\n",
        "meniscus_model.save(\"/content/drive/My Drive/meniscus_InceptionV3.h5\")"
      ],
      "execution_count": 0,
      "outputs": []
    },
    {
      "cell_type": "code",
      "metadata": {
        "id": "5n29ECrRWy7m",
        "colab_type": "code",
        "colab": {}
      },
      "source": [
        "# Plot\n",
        "# summarize history for accuracy\n",
        "plt.plot(model_history.history['accuracy'])\n",
        "plt.plot(model_history.history['val_accuracy'])\n",
        "plt.title('model accuracy')\n",
        "plt.ylabel('accuracy')\n",
        "plt.xlabel('epoch')\n",
        "plt.legend(['train', 'validation'], loc='upper left')\n",
        "plt.show()\n",
        "# summarize history for loss\n",
        "plt.plot(model_history.history['loss'])\n",
        "plt.plot(model_history.history['val_loss'])\n",
        "plt.title('model loss')\n",
        "plt.ylabel('loss')\n",
        "plt.xlabel('epoch')\n",
        "plt.legend(['train', 'validation'], loc='upper left')\n",
        "plt.show()\n",
        "\n",
        "pd.DataFrame(model_history.history).plot(figsize = (8, 5))\n",
        "plt.grid(True)\n",
        "plt.gca().set_ylim(0, 1)\n",
        "plt.show()"
      ],
      "execution_count": 0,
      "outputs": []
    },
    {
      "cell_type": "markdown",
      "metadata": {
        "colab_type": "text",
        "id": "NdSDmWetXDnT"
      },
      "source": [
        "### **Test Models**"
      ]
    },
    {
      "cell_type": "code",
      "metadata": {
        "colab_type": "code",
        "id": "A-o_-cTMXDnU",
        "colab": {}
      },
      "source": [
        "#abnormal model\n",
        "abnormal_score = abnormal_model.evaluate(abnormal_test_generator)\n",
        "print (abnormal_score)"
      ],
      "execution_count": 0,
      "outputs": []
    },
    {
      "cell_type": "code",
      "metadata": {
        "colab_type": "code",
        "id": "kMiIC6e5XDnV",
        "colab": {}
      },
      "source": [
        "#acl model\n",
        "acl_score = acl_model.evaluate(acl_test_generator)\n",
        "print (acl_score)"
      ],
      "execution_count": 0,
      "outputs": []
    },
    {
      "cell_type": "code",
      "metadata": {
        "colab_type": "code",
        "id": "k2lDzAMSXDnX",
        "colab": {}
      },
      "source": [
        "#meniscus model\n",
        "meniscus_score = meniscus_model.evaluate(meniscus_test_generator)\n",
        "print (meniscus_score)"
      ],
      "execution_count": 0,
      "outputs": []
    },
    {
      "cell_type": "markdown",
      "metadata": {
        "id": "-11xdeOoH78V",
        "colab_type": "text"
      },
      "source": [
        "## **Transfer Learning**"
      ]
    },
    {
      "cell_type": "markdown",
      "metadata": {
        "id": "fSiBdYMh-a0q",
        "colab_type": "text"
      },
      "source": [
        "\n",
        "### **Get a CNN for each series**\n",
        "i.e.   axial, coronal, sagittal"
      ]
    },
    {
      "cell_type": "code",
      "metadata": {
        "id": "caSzO8ZimaTb",
        "colab_type": "code",
        "colab": {}
      },
      "source": [
        "def getSingleViewTLModel(base_model):\n",
        "  base_model.trainable = False\n",
        "  inputs = keras.Input(shape=(256, 256, 3))\n",
        "  x = base_model(inputs)\n",
        "  x = max(x, axis = 0, keepdims = True)\n",
        "  x = Dense(512, activation=tf.nn.relu)(x)\n",
        "  x = Dropout(0.2)(x)\n",
        "  x = Dense(128, activation=tf.nn.relu)(x)\n",
        "  x = Dropout(0.1)(x)\n",
        "  outputs = Dense(1,activation=tf.nn.sigmoid)(x)\n",
        "  model = keras.Model(inputs, outputs)\n",
        "  keras.utils.plot_model(model, \"/content/drive/My Drive/getSingleViewTLModel.png\", show_shapes=True)\n",
        "\n",
        "  return model"
      ],
      "execution_count": 0,
      "outputs": []
    },
    {
      "cell_type": "markdown",
      "metadata": {
        "id": "Xxx-k0NEKonI",
        "colab_type": "text"
      },
      "source": [
        "### **Merge the 3 series in one model using logistic regression**"
      ]
    },
    {
      "cell_type": "code",
      "metadata": {
        "id": "iq4QmkPrnEI6",
        "colab_type": "code",
        "colab": {}
      },
      "source": [
        "def getCompleteTLModel():\n",
        "  axial_model = getSingleViewTLModel(keras.applications.ResNet50(weights='imagenet', include_top = False, \n",
        "                                                                      input_shape = (256, 256, 3), pooling ='avg'))\n",
        "  coronal_model = getSingleViewTLModel(keras.applications.ResNet50(weights='imagenet', include_top = False, \n",
        "                                                                      input_shape = (256, 256, 3), pooling ='avg'))\n",
        "  sagittal_model = getSingleViewTLModel(keras.applications.ResNet50(weights='imagenet', include_top = False, \n",
        "                                                                      input_shape = (256, 256, 3), pooling ='avg'))\n",
        "  axial_input = keras.Input(shape = (256, 256, 3))\n",
        "  coronal_input = keras.Input(shape = (256, 256, 3))\n",
        "  sagittal_input = keras.Input(shape = (256, 256, 3))\n",
        "  x = layers.concatenate([axial_model(axial_input), coronal_model(coronal_input), sagittal_model(sagittal_input)])\n",
        "  outputs = Dense(1,activation=tf.nn.sigmoid)(x)\n",
        "  model = keras.Model([axial_input,coronal_input,sagittal_input], outputs)\n",
        "  return model"
      ],
      "execution_count": 0,
      "outputs": []
    },
    {
      "cell_type": "markdown",
      "metadata": {
        "id": "F0ucN0tkIT-m",
        "colab_type": "text"
      },
      "source": [
        "### **Training Models**"
      ]
    },
    {
      "cell_type": "code",
      "metadata": {
        "id": "U_fEH8c2Gxhi",
        "colab_type": "code",
        "colab": {}
      },
      "source": [
        "#abnormal model\n",
        "abnormal_model = getCompleteTLModel()\n",
        "abnormal_model.summary()\n",
        "abnormal_model.compile(optimizer='adam', loss='binary_crossentropy', metrics=['accuracy'])\n",
        "abnormal_model.fit(abnormal_training_generator,validation_data=abnormal_validation_generator,epochs=10)\n",
        "abnormal_model.save(\"/content/drive/My Drive/abnormal_TL.h5\")"
      ],
      "execution_count": 0,
      "outputs": []
    },
    {
      "cell_type": "code",
      "metadata": {
        "id": "xFN8xb14HCBC",
        "colab_type": "code",
        "outputId": "7b8dd9df-97bb-4108-ab73-2b0e0032e026",
        "colab": {
          "base_uri": "https://localhost:8080/",
          "height": 1000
        }
      },
      "source": [
        "#acl model\n",
        "acl_model = getCompleteTLModel()\n",
        "acl_model.summary()\n",
        "acl_model.compile(optimizer='adam', loss='binary_crossentropy', metrics=['accuracy'])\n",
        "model_history = acl_model.fit(acl_training_generator,validation_data=acl_validation_generator,epochs=10)\n",
        "acl_model.save(\"/content/drive/My Drive/acl_TL.h5\")\n",
        "\n",
        "# summarize history for accuracy\n",
        "plt.plot(model_history.history['accuracy'])\n",
        "plt.plot(model_history.history['val_accuracy'])\n",
        "plt.title('model accuracy')\n",
        "plt.ylabel('accuracy')\n",
        "plt.xlabel('epoch')\n",
        "plt.legend(['train', 'validation'], loc='upper left')\n",
        "plt.show()\n",
        "# summarize history for loss\n",
        "plt.plot(model_history.history['loss'])\n",
        "plt.plot(model_history.history['val_loss'])\n",
        "plt.title('model loss')\n",
        "plt.ylabel('loss')\n",
        "plt.xlabel('epoch')\n",
        "plt.legend(['train', 'validation'], loc='upper left')\n",
        "plt.show()\n",
        "\n",
        "pd.DataFrame(model_history.history).plot(figsize = (8, 5))\n",
        "plt.grid(True)\n",
        "plt.gca().set_ylim(0, 1)\n",
        "plt.show()\n",
        "\n",
        "\n"
      ],
      "execution_count": 0,
      "outputs": [
        {
          "output_type": "stream",
          "text": [
            "Model: \"model_43\"\n",
            "__________________________________________________________________________________________________\n",
            "Layer (type)                    Output Shape         Param #     Connected to                     \n",
            "==================================================================================================\n",
            "input_99 (InputLayer)           [(None, 256, 256, 3) 0                                            \n",
            "__________________________________________________________________________________________________\n",
            "input_100 (InputLayer)          [(None, 256, 256, 3) 0                                            \n",
            "__________________________________________________________________________________________________\n",
            "input_101 (InputLayer)          [(None, 256, 256, 3) 0                                            \n",
            "__________________________________________________________________________________________________\n",
            "model_40 (Model)                (1, 1)               24702593    input_99[0][0]                   \n",
            "__________________________________________________________________________________________________\n",
            "model_41 (Model)                (1, 1)               24702593    input_100[0][0]                  \n",
            "__________________________________________________________________________________________________\n",
            "model_42 (Model)                (1, 1)               24702593    input_101[0][0]                  \n",
            "__________________________________________________________________________________________________\n",
            "concatenate_10 (Concatenate)    (1, 3)               0           model_40[1][0]                   \n",
            "                                                                 model_41[1][0]                   \n",
            "                                                                 model_42[1][0]                   \n",
            "__________________________________________________________________________________________________\n",
            "dense_109 (Dense)               (1, 1)               4           concatenate_10[0][0]             \n",
            "==================================================================================================\n",
            "Total params: 74,107,783\n",
            "Trainable params: 3,344,647\n",
            "Non-trainable params: 70,763,136\n",
            "__________________________________________________________________________________________________\n",
            "Epoch 1/10\n",
            "1000/1000 [==============================] - 250s 250ms/step - loss: 0.5419 - accuracy: 0.8110 - val_loss: 0.4697 - val_accuracy: 0.8462\n",
            "Epoch 2/10\n",
            "1000/1000 [==============================] - 248s 248ms/step - loss: 0.4929 - accuracy: 0.8120 - val_loss: 0.4436 - val_accuracy: 0.8462\n",
            "Epoch 3/10\n",
            "1000/1000 [==============================] - 247s 247ms/step - loss: 0.4852 - accuracy: 0.8120 - val_loss: 0.4368 - val_accuracy: 0.8462\n",
            "Epoch 4/10\n",
            "1000/1000 [==============================] - 248s 248ms/step - loss: 0.4840 - accuracy: 0.8120 - val_loss: 0.4352 - val_accuracy: 0.8462\n",
            "Epoch 5/10\n",
            "1000/1000 [==============================] - 247s 247ms/step - loss: 0.4837 - accuracy: 0.8120 - val_loss: 0.4339 - val_accuracy: 0.8462\n",
            "Epoch 6/10\n",
            "1000/1000 [==============================] - 246s 246ms/step - loss: 0.4837 - accuracy: 0.8120 - val_loss: 0.4336 - val_accuracy: 0.8462\n",
            "Epoch 7/10\n",
            "1000/1000 [==============================] - 248s 248ms/step - loss: 0.4836 - accuracy: 0.8120 - val_loss: 0.4331 - val_accuracy: 0.8462\n",
            "Epoch 8/10\n",
            "1000/1000 [==============================] - 247s 247ms/step - loss: 0.4836 - accuracy: 0.8120 - val_loss: 0.4334 - val_accuracy: 0.8462\n",
            "Epoch 9/10\n",
            "1000/1000 [==============================] - 247s 247ms/step - loss: 0.4837 - accuracy: 0.8120 - val_loss: 0.4332 - val_accuracy: 0.8462\n",
            "Epoch 10/10\n",
            "1000/1000 [==============================] - 247s 247ms/step - loss: 0.4836 - accuracy: 0.8120 - val_loss: 0.4329 - val_accuracy: 0.8462\n"
          ],
          "name": "stdout"
        },
        {
          "output_type": "display_data",
          "data": {
            "image/png": "[encoded data removed]",
            "text/plain": [
              "<Figure size 432x288 with 1 Axes>"
            ]
          },
          "metadata": {
            "tags": [],
            "needs_background": "light"
          }
        },
        {
          "output_type": "display_data",
          "data": {
            "image/png": "[encoded data removed]",
            "text/plain": [
              "<Figure size 432x288 with 1 Axes>"
            ]
          },
          "metadata": {
            "tags": [],
            "needs_background": "light"
          }
        },
        {
          "output_type": "display_data",
          "data": {
            "image/png": "[encoded data removed]",
            "text/plain": [
              "<Figure size 576x360 with 1 Axes>"
            ]
          },
          "metadata": {
            "tags": [],
            "needs_background": "light"
          }
        }
      ]
    },
    {
      "cell_type": "code",
      "metadata": {
        "id": "fnXrZYAXHCH6",
        "colab_type": "code",
        "colab": {}
      },
      "source": [
        "#meniscus model\n",
        "meniscus_model = getCompleteTLModel()\n",
        "meniscus_model.summary()\n",
        "meniscus_model.compile(optimizer='adam', loss='binary_crossentropy', metrics=['accuracy'])\n",
        "model_history = meniscus_model.fit(meniscus_training_generator,validation_data=meniscus_validation_generator,epochs =10)\n",
        "meniscus_model.save(\"/content/drive/My Drive/meniscus_TL.h5\")\n",
        "\n",
        "# summarize history for accuracy\n",
        "plt.plot(model_history.history['accuracy'])\n",
        "plt.plot(model_history.history['val_accuracy'])\n",
        "plt.title('model accuracy')\n",
        "plt.ylabel('accuracy')\n",
        "plt.xlabel('epoch')\n",
        "plt.legend(['train', 'validation'], loc='upper left')\n",
        "plt.show()\n",
        "# summarize history for loss\n",
        "plt.plot(model_history.history['loss'])\n",
        "plt.plot(model_history.history['val_loss'])\n",
        "plt.title('model loss')\n",
        "plt.ylabel('loss')\n",
        "plt.xlabel('epoch')\n",
        "plt.legend(['train', 'validation'], loc='upper left')\n",
        "plt.show()\n",
        "\n"
      ],
      "execution_count": 0,
      "outputs": []
    },
    {
      "cell_type": "markdown",
      "metadata": {
        "id": "671xrNBUOcSQ",
        "colab_type": "text"
      },
      "source": [
        "### **Test Models**"
      ]
    },
    {
      "cell_type": "code",
      "metadata": {
        "id": "b8_XrOMfOZDg",
        "colab_type": "code",
        "colab": {}
      },
      "source": [
        "#abnormal model\n",
        "abnormal_score = abnormal_model.evaluate(abnormal_test_generator)\n",
        "print (abnormal_score)"
      ],
      "execution_count": 0,
      "outputs": []
    },
    {
      "cell_type": "code",
      "metadata": {
        "id": "OnRp_pR7O1cX",
        "colab_type": "code",
        "colab": {}
      },
      "source": [
        "#acl model\n",
        "acl_score = acl_model.evaluate(acl_test_generator)\n",
        "print (acl_score)"
      ],
      "execution_count": 0,
      "outputs": []
    },
    {
      "cell_type": "code",
      "metadata": {
        "id": "IQWNtzHzO2cu",
        "colab_type": "code",
        "colab": {}
      },
      "source": [
        "#meniscus model\n",
        "meniscus_score = meniscus_model.evaluate(meniscus_test_generator)\n",
        "print (meniscus_score)"
      ],
      "execution_count": 0,
      "outputs": []
    },
    {
      "cell_type": "code",
      "metadata": {
        "id": "w9lxrrf6Gnz8",
        "colab_type": "code",
        "colab": {}
      },
      "source": [
        "model = keras.models.load_model('/content/drive/My Drive/meniscus_TL.h5')"
      ],
      "execution_count": 0,
      "outputs": []
    }
  ]
}